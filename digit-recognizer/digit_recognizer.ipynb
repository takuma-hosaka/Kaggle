{
 "cells": [
  {
   "cell_type": "code",
   "execution_count": 1,
   "metadata": {},
   "outputs": [],
   "source": [
    "import numpy as np \n",
    "import pandas as pd\n",
    "import matplotlib.pyplot as plt\n",
    "import seaborn as sns \n",
    "\n",
    "from keras.models import Sequential\n",
    "from keras.layers import Dense, Dropout, Flatten\n",
    "from keras.layers import Conv2D, MaxPooling2D\n",
    "from keras.optimizers import Adam"
   ]
  },
  {
   "cell_type": "code",
   "execution_count": null,
   "metadata": {},
   "outputs": [
    {
     "name": "stdout",
     "output_type": "stream",
     "text": [
      "   pixel0  pixel1  pixel2  pixel3  pixel4  pixel5  pixel6  pixel7  pixel8  \\\n",
      "0       0       0       0       0       0       0       0       0       0   \n",
      "1       0       0       0       0       0       0       0       0       0   \n",
      "2       0       0       0       0       0       0       0       0       0   \n",
      "3       0       0       0       0       0       0       0       0       0   \n",
      "4       0       0       0       0       0       0       0       0       0   \n",
      "\n",
      "   pixel9  ...  pixel774  pixel775  pixel776  pixel777  pixel778  pixel779  \\\n",
      "0       0  ...         0         0         0         0         0         0   \n",
      "1       0  ...         0         0         0         0         0         0   \n",
      "2       0  ...         0         0         0         0         0         0   \n",
      "3       0  ...         0         0         0         0         0         0   \n",
      "4       0  ...         0         0         0         0         0         0   \n",
      "\n",
      "   pixel780  pixel781  pixel782  pixel783  \n",
      "0         0         0         0         0  \n",
      "1         0         0         0         0  \n",
      "2         0         0         0         0  \n",
      "3         0         0         0         0  \n",
      "4         0         0         0         0  \n",
      "\n",
      "[5 rows x 784 columns]\n"
     ]
    }
   ],
   "source": [
    "train = pd.read_csv(\"train.csv\")\n",
    "\n",
    "\n",
    "test = pd.read_csv(\"test.csv\")\n",
    "print(test.head())\n"
   ]
  },
  {
   "cell_type": "code",
   "execution_count": 3,
   "metadata": {},
   "outputs": [],
   "source": [
    "train_img = []\n",
    "\n",
    "for i in range(len(train)):\n",
    "  train_img.append(np.array(train.iloc[i, 1:]).reshape(28,28))\n",
    "\n",
    "test_img = []\n",
    "for i in range(len(test)):\n",
    "  test_img.append(np.array(test.iloc[i, 0:]).reshape(28,28))\n"
   ]
  },
  {
   "cell_type": "code",
   "execution_count": 6,
   "metadata": {},
   "outputs": [
    {
     "name": "stdout",
     "output_type": "stream",
     "text": [
      "[[  0   0   0   0   0   0   0   0   0   0   0   0   0   0   0   0   0   0\n",
      "    0   0   0   0   0   0   0   0   0   0]\n",
      " [  0   0   0   0   0   0   0   0   0   0   0   0   0   0   0   0   0   0\n",
      "    0   0   0   0   0   0   0   0   0   0]\n",
      " [  0   0   0   0   0   0   0   0   0   0   0   0   0   0   0   0   0   0\n",
      "    0   0   0   0   0   0   0   0   0   0]\n",
      " [  0   0   0   0   0   0   0   0   0   0   0   0   0   0   0   0   0   0\n",
      "    0   0   0   0   0   0   0   0   0   0]\n",
      " [  0   0   0   0   0   0   0   0   0   0   0   0   0   0   0   0   0   0\n",
      "    0   0 188 255  94   0   0   0   0   0]\n",
      " [  0   0   0   0   0   0   0   0   0   0   0   0   0   0   0   0   0   0\n",
      "    0 191 250 253  93   0   0   0   0   0]\n",
      " [  0   0   0   0   0   0   0   0   0   0   0   0   0   0   0   0   0   0\n",
      "  123 248 253 167  10   0   0   0   0   0]\n",
      " [  0   0   0   0   0   0   0   0   0   0   0   0   0   0   0   0   0  80\n",
      "  247 253 208  13   0   0   0   0   0   0]\n",
      " [  0   0   0   0   0   0   0   0   0   0   0   0   0   0   0   0  29 207\n",
      "  253 235  77   0   0   0   0   0   0   0]\n",
      " [  0   0   0   0   0   0   0   0   0   0   0   0   0   0   0  54 209 253\n",
      "  253  88   0   0   0   0   0   0   0   0]\n",
      " [  0   0   0   0   0   0   0   0   0   0   0   0   0   0  93 254 253 238\n",
      "  170  17   0   0   0   0   0   0   0   0]\n",
      " [  0   0   0   0   0   0   0   0   0   0   0   0   0  23 210 254 253 159\n",
      "    0   0   0   0   0   0   0   0   0   0]\n",
      " [  0   0   0   0   0   0   0   0   0   0   0   0  16 209 253 254 240  81\n",
      "    0   0   0   0   0   0   0   0   0   0]\n",
      " [  0   0   0   0   0   0   0   0   0   0   0   0  27 253 253 254  13   0\n",
      "    0   0   0   0   0   0   0   0   0   0]\n",
      " [  0   0   0   0   0   0   0   0   0   0   0  20 206 254 254 198   7   0\n",
      "    0   0   0   0   0   0   0   0   0   0]\n",
      " [  0   0   0   0   0   0   0   0   0   0   0 168 253 253 196   7   0   0\n",
      "    0   0   0   0   0   0   0   0   0   0]\n",
      " [  0   0   0   0   0   0   0   0   0   0  20 203 253 248  76   0   0   0\n",
      "    0   0   0   0   0   0   0   0   0   0]\n",
      " [  0   0   0   0   0   0   0   0   0  22 188 253 245  93   0   0   0   0\n",
      "    0   0   0   0   0   0   0   0   0   0]\n",
      " [  0   0   0   0   0   0   0   0   0 103 253 253 191   0   0   0   0   0\n",
      "    0   0   0   0   0   0   0   0   0   0]\n",
      " [  0   0   0   0   0   0   0   0  89 240 253 195  25   0   0   0   0   0\n",
      "    0   0   0   0   0   0   0   0   0   0]\n",
      " [  0   0   0   0   0   0   0  15 220 253 253  80   0   0   0   0   0   0\n",
      "    0   0   0   0   0   0   0   0   0   0]\n",
      " [  0   0   0   0   0   0   0  94 253 253 253  94   0   0   0   0   0   0\n",
      "    0   0   0   0   0   0   0   0   0   0]\n",
      " [  0   0   0   0   0   0   0  89 251 253 250 131   0   0   0   0   0   0\n",
      "    0   0   0   0   0   0   0   0   0   0]\n",
      " [  0   0   0   0   0   0   0   0 214 218  95   0   0   0   0   0   0   0\n",
      "    0   0   0   0   0   0   0   0   0   0]\n",
      " [  0   0   0   0   0   0   0   0   0   0   0   0   0   0   0   0   0   0\n",
      "    0   0   0   0   0   0   0   0   0   0]\n",
      " [  0   0   0   0   0   0   0   0   0   0   0   0   0   0   0   0   0   0\n",
      "    0   0   0   0   0   0   0   0   0   0]\n",
      " [  0   0   0   0   0   0   0   0   0   0   0   0   0   0   0   0   0   0\n",
      "    0   0   0   0   0   0   0   0   0   0]\n",
      " [  0   0   0   0   0   0   0   0   0   0   0   0   0   0   0   0   0   0\n",
      "    0   0   0   0   0   0   0   0   0   0]]\n"
     ]
    },
    {
     "data": {
      "image/png": "[encoded data removed]",
      "text/plain": [
       "<Figure size 640x480 with 1 Axes>"
      ]
     },
     "metadata": {},
     "output_type": "display_data"
    }
   ],
   "source": [
    "print(train_img[0])\n",
    "plt.imshow(train_img[0], cmap=\"gray\")\n",
    "plt.show()"
   ]
  },
  {
   "cell_type": "code",
   "execution_count": 7,
   "metadata": {},
   "outputs": [],
   "source": [
    "model = Sequential()\n",
    "model.add(Conv2D(\n",
    "  filters=16,\n",
    "  kernel_size=(3,3),\n",
    "  input_shape=(28,28,1),\n",
    "  padding=\"same\",\n",
    "  activation = \"relu\"\n",
    "))\n",
    "model.add(Conv2D(\n",
    "  filters=32,              \n",
    "  kernel_size=(3, 3),      \n",
    "  padding='same',          \n",
    "  activation='relu'        \n",
    "))\n",
    "model.add(\n",
    "    MaxPooling2D(pool_size=(2, 2)))\n",
    "model.add(Conv2D(\n",
    "  filters=64,             \n",
    "  kernel_size=(3, 3),      \n",
    "  padding='same',          \n",
    "  activation='relu'        \n",
    "))\n",
    "\n",
    "model.add(\n",
    "    MaxPooling2D(pool_size=(2, 2)))   \n",
    "\n",
    "model.add(Dropout(0.5))                 \n",
    "\n",
    "model.add(Flatten())\n",
    "\n",
    "model.add(Dense(128,                      \n",
    "                activation='relu'         \n",
    "               ))\n",
    "\n",
    "model.add(Dense(10,                       \n",
    "                activation='softmax'      \n",
    "               ))\n",
    "\n",
    "model.compile(\n",
    "    loss='categorical_crossentropy',      \n",
    "    optimizer=Adam(),                     \n",
    "    metrics=['accuracy']                  \n",
    "    )\n",
    "\n"
   ]
  },
  {
   "cell_type": "code",
   "execution_count": 8,
   "metadata": {},
   "outputs": [
    {
     "name": "stdout",
     "output_type": "stream",
     "text": [
      "Model: \"sequential_1\"\n",
      "_________________________________________________________________\n",
      " Layer (type)                Output Shape              Param #   \n",
      "=================================================================\n",
      " conv2d_1 (Conv2D)           (None, 28, 28, 16)        160       \n",
      "                                                                 \n",
      " conv2d_2 (Conv2D)           (None, 28, 28, 32)        4640      \n",
      "                                                                 \n",
      " max_pooling2d (MaxPooling2D  (None, 14, 14, 32)       0         \n",
      " )                                                               \n",
      "                                                                 \n",
      " conv2d_3 (Conv2D)           (None, 14, 14, 64)        18496     \n",
      "                                                                 \n",
      " max_pooling2d_1 (MaxPooling  (None, 7, 7, 64)         0         \n",
      " 2D)                                                             \n",
      "                                                                 \n",
      " dropout (Dropout)           (None, 7, 7, 64)          0         \n",
      "                                                                 \n",
      " flatten (Flatten)           (None, 3136)              0         \n",
      "                                                                 \n",
      " dense (Dense)               (None, 128)               401536    \n",
      "                                                                 \n",
      " dense_1 (Dense)             (None, 10)                1290      \n",
      "                                                                 \n",
      "=================================================================\n",
      "Total params: 426,122\n",
      "Trainable params: 426,122\n",
      "Non-trainable params: 0\n",
      "_________________________________________________________________\n"
     ]
    }
   ],
   "source": [
    "model.summary()"
   ]
  },
  {
   "cell_type": "code",
   "execution_count": null,
   "metadata": {},
   "outputs": [
    {
     "data": {
      "text/plain": [
       "42000"
      ]
     },
     "execution_count": 12,
     "metadata": {},
     "output_type": "execute_result"
    }
   ],
   "source": []
  },
  {
   "cell_type": "code",
   "execution_count": null,
   "metadata": {},
   "outputs": [],
   "source": []
  },
  {
   "cell_type": "code",
   "execution_count": 19,
   "metadata": {},
   "outputs": [],
   "source": [
    "from keras.utils import np_utils\n",
    "x_train = np.array(train_img).reshape(len(train_img),28,28,1)\n",
    "x_train = x_train.astype(\"float32\")\n",
    "x_train /= 255\n",
    "\n",
    "correct = 10                        # 正解ラベルの数\n",
    "# 正解ラベルを1-of-K符号化法で変換\n",
    "y_train = np_utils.to_categorical(train.iloc[:,0], correct)\n",
    "\n",
    "# テストデータ\n",
    "# 10000x28x28の3次元配列を10000×28×28×1の4次元配列に変換\n",
    "x_test = np.array(test_img).reshape(len(test_img),28,28,1)\n",
    "x_test = x_test.astype('float32')  # float32型に変換\n",
    "x_test /= 255                      # 0から1.0の範囲に変換"
   ]
  },
  {
   "cell_type": "code",
   "execution_count": 20,
   "metadata": {},
   "outputs": [
    {
     "name": "stdout",
     "output_type": "stream",
     "text": [
      "Epoch 1/20\n",
      "420/420 [==============================] - 15s 34ms/step - loss: 0.2380 - accuracy: 0.9241\n",
      "Epoch 2/20\n",
      "420/420 [==============================] - 27s 66ms/step - loss: 0.0728 - accuracy: 0.9765\n",
      "Epoch 3/20\n",
      "420/420 [==============================] - 77s 184ms/step - loss: 0.0530 - accuracy: 0.9833\n",
      "Epoch 4/20\n",
      "420/420 [==============================] - 15s 35ms/step - loss: 0.0442 - accuracy: 0.9861\n",
      "Epoch 5/20\n",
      "420/420 [==============================] - 34s 81ms/step - loss: 0.0352 - accuracy: 0.9885\n",
      "Epoch 6/20\n",
      "420/420 [==============================] - 18s 43ms/step - loss: 0.0318 - accuracy: 0.9899\n",
      "Epoch 7/20\n",
      "420/420 [==============================] - 18s 42ms/step - loss: 0.0267 - accuracy: 0.9910\n",
      "Epoch 8/20\n",
      "420/420 [==============================] - 17s 41ms/step - loss: 0.0241 - accuracy: 0.9920\n",
      "Epoch 9/20\n",
      "420/420 [==============================] - 16s 38ms/step - loss: 0.0212 - accuracy: 0.9927\n",
      "Epoch 10/20\n",
      "420/420 [==============================] - 169s 404ms/step - loss: 0.0200 - accuracy: 0.9936\n",
      "Epoch 11/20\n",
      "420/420 [==============================] - 74s 175ms/step - loss: 0.0192 - accuracy: 0.9936\n",
      "Epoch 12/20\n",
      "420/420 [==============================] - 15s 35ms/step - loss: 0.0182 - accuracy: 0.9939\n",
      "Epoch 13/20\n",
      "420/420 [==============================] - 15s 36ms/step - loss: 0.0156 - accuracy: 0.9948\n",
      "Epoch 14/20\n",
      "420/420 [==============================] - 16s 38ms/step - loss: 0.0135 - accuracy: 0.9956\n",
      "Epoch 15/20\n",
      "420/420 [==============================] - 16s 37ms/step - loss: 0.0145 - accuracy: 0.9946\n",
      "Epoch 16/20\n",
      "420/420 [==============================] - 16s 39ms/step - loss: 0.0118 - accuracy: 0.9962\n",
      "Epoch 17/20\n",
      "420/420 [==============================] - 17s 40ms/step - loss: 0.0123 - accuracy: 0.9958\n",
      "Epoch 18/20\n",
      "420/420 [==============================] - 17s 40ms/step - loss: 0.0106 - accuracy: 0.9963\n",
      "Epoch 19/20\n",
      "420/420 [==============================] - 18s 43ms/step - loss: 0.0115 - accuracy: 0.9958\n",
      "Epoch 20/20\n",
      "420/420 [==============================] - 20s 47ms/step - loss: 0.0109 - accuracy: 0.9963\n",
      "Computation time:628.980 sec\n"
     ]
    }
   ],
   "source": [
    "import time\n",
    "\n",
    "# 学習を行って結果を出力\n",
    "start = time.time()                   # プログラムの開始時刻を取得\n",
    "\n",
    "history = model.ﬁt(x_train,           # 訓練データ\n",
    "                   y_train,           # 正解ラベル \n",
    "                   batch_size=100,    # 勾配計算に用いるミニバッチの数 \n",
    "                   epochs=20,         # 学習を繰り返す回数\n",
    "                   verbose=1,         # 学習の進捗状況を出力する\n",
    "                    )\n",
    "\n",
    "# 処理にかかった時間を出力\n",
    "print(\"Computation time:{0:.3f} sec\".format(time.time() - start))"
   ]
  },
  {
   "cell_type": "code",
   "execution_count": null,
   "metadata": {},
   "outputs": [
    {
     "data": {
      "text/plain": [
       "<keras.callbacks.History at 0x162dc20ca00>"
      ]
     },
     "execution_count": 22,
     "metadata": {},
     "output_type": "execute_result"
    }
   ],
   "source": []
  },
  {
   "cell_type": "code",
   "execution_count": 23,
   "metadata": {},
   "outputs": [
    {
     "data": {
      "image/png": "[encoded data removed]",
      "text/plain": [
       "<Figure size 640x480 with 1 Axes>"
      ]
     },
     "metadata": {},
     "output_type": "display_data"
    },
    {
     "data": {
      "image/png": "[encoded data removed]",
      "text/plain": [
       "<Figure size 640x480 with 1 Axes>"
      ]
     },
     "metadata": {},
     "output_type": "display_data"
    }
   ],
   "source": [
    "%matplotlib inline\n",
    "\n",
    "# 訓練データの損失(誤り率)をプロット\n",
    "plt.plot(history.history['loss'],\n",
    "         label='training',\n",
    "         color='black')\n",
    "plt.ylim(0, 0.4)       # y軸の範囲\n",
    "plt.legend()         # 凡例を表示\n",
    "plt.grid()           # グリッド表示\n",
    "plt.xlabel('epoch')  # x軸ラベル\n",
    "plt.ylabel('loss')   # y軸ラベル\n",
    "plt.show()\n",
    "\n",
    "# 訓練データの正解率をプロット\n",
    "plt.plot(history.history['accuracy'],\n",
    "         label='training',\n",
    "         color='black')\n",
    "plt.ylim(0.5, 1)     # y軸の範囲\n",
    "plt.legend()         # 凡例を表示\n",
    "plt.grid()           # グリッド表示\n",
    "plt.xlabel('epoch')  # x軸ラベル\n",
    "plt.ylabel('acc')    # y軸ラベル\n",
    "plt.show()"
   ]
  },
  {
   "cell_type": "code",
   "execution_count": 24,
   "metadata": {},
   "outputs": [
    {
     "name": "stdout",
     "output_type": "stream",
     "text": [
      "875/875 [==============================] - 5s 5ms/step\n",
      "[2 0 9 ... 3 9 2]\n"
     ]
    }
   ],
   "source": [
    "# モデルがすでに訓練されていると仮定\n",
    "predictions = model.predict(x_test)\n",
    "predicted_classes = np.argmax(predictions, axis=1)\n",
    "# 出力の確認\n",
    "print(predicted_classes)"
   ]
  },
  {
   "cell_type": "code",
   "execution_count": null,
   "metadata": {},
   "outputs": [
    {
     "data": {
      "text/plain": [
       "range(0, 28000)"
      ]
     },
     "execution_count": 26,
     "metadata": {},
     "output_type": "execute_result"
    }
   ],
   "source": []
  },
  {
   "cell_type": "code",
   "execution_count": 28,
   "metadata": {},
   "outputs": [],
   "source": [
    "compare_result = pd.DataFrame({\n",
    "    'ImageId': range(1, len(test.index)+1),\n",
    "    'Label': predicted_classes\n",
    "})\n",
    "\n",
    "# CSV出力\n",
    "compare_result.to_csv('submission.csv', index=False)"
   ]
  },
  {
   "cell_type": "code",
   "execution_count": null,
   "metadata": {},
   "outputs": [],
   "source": []
  }
 ],
 "metadata": {
  "kernelspec": {
   "display_name": "tensorflow_env",
   "language": "python",
   "name": "tensorflow_env"
  },
  "language_info": {
   "codemirror_mode": {
    "name": "ipython",
    "version": 3
   },
   "file_extension": ".py",
   "mimetype": "text/x-python",
   "name": "python",
   "nbconvert_exporter": "python",
   "pygments_lexer": "ipython3",
   "version": "3.9.18"
  }
 },
 "nbformat": 4,
 "nbformat_minor": 2
}
