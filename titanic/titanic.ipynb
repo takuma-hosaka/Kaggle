{
 "cells": [
  {
   "cell_type": "code",
   "execution_count": 51,
   "metadata": {},
   "outputs": [],
   "source": [
    "#Import libraries\n",
    "import numpy as np\n",
    "import pandas as pd\n",
    "import matplotlib.pyplot as plt\n",
    "import seaborn as sns\n",
    "from scipy.stats import chi2_contingency\n",
    "from sklearn.preprocessing  import StandardScaler\n",
    "from sklearn.model_selection import train_test_split\n",
    "\n",
    "from sklearn.model_selection import cross_val_score\n",
    "from sklearn.tree import DecisionTreeClassifier\n",
    "from sklearn.metrics import accuracy_score\n",
    "from sklearn.ensemble import RandomForestClassifier\n",
    "from sklearn.ensemble import BaggingClassifier\n",
    "from sklearn.ensemble import GradientBoostingClassifier\n",
    "from sklearn.model_selection import GridSearchCV\n",
    "\n",
    "import warnings\n",
    "warnings.filterwarnings(\"ignore\", category=FutureWarning) "
   ]
  },
  {
   "cell_type": "code",
   "execution_count": 52,
   "metadata": {},
   "outputs": [
    {
     "name": "stdout",
     "output_type": "stream",
     "text": [
      "data shape (891, 12) \n",
      "test shape (418, 11) \n",
      "all_data shape (1309, 11)\n"
     ]
    }
   ],
   "source": [
    "#Read data set\n",
    "data = pd.read_csv(\"train.csv\")\n",
    "test = pd.read_csv(\"test.csv\")\n",
    "\n",
    "#Store train data size\n",
    "ntrain = data.shape[0]\n",
    "\n",
    "print(f\"data shape {data.shape} \")\n",
    "print(f\"test shape {test.shape} \")\n",
    "\n",
    "#Combine both data for smooth data cleaning\n",
    "all_data = pd.concat([data, test], axis=0).reset_index(drop=True)\n",
    "\n",
    "#remove target label from combibed data \n",
    "all_data = all_data.drop(\"Survived\", axis=1)\n",
    "\n",
    "print(f\"all_data shape {all_data.shape}\")"
   ]
  },
  {
   "cell_type": "code",
   "execution_count": 53,
   "metadata": {},
   "outputs": [
    {
     "name": "stdout",
     "output_type": "stream",
     "text": [
      "<class 'pandas.core.frame.DataFrame'>\n",
      "RangeIndex: 891 entries, 0 to 890\n",
      "Data columns (total 12 columns):\n",
      " #   Column       Non-Null Count  Dtype  \n",
      "---  ------       --------------  -----  \n",
      " 0   PassengerId  891 non-null    int64  \n",
      " 1   Survived     891 non-null    int64  \n",
      " 2   Pclass       891 non-null    int64  \n",
      " 3   Name         891 non-null    object \n",
      " 4   Sex          891 non-null    object \n",
      " 5   Age          714 non-null    float64\n",
      " 6   SibSp        891 non-null    int64  \n",
      " 7   Parch        891 non-null    int64  \n",
      " 8   Ticket       891 non-null    object \n",
      " 9   Fare         891 non-null    float64\n",
      " 10  Cabin        204 non-null    object \n",
      " 11  Embarked     889 non-null    object \n",
      "dtypes: float64(2), int64(5), object(5)\n",
      "memory usage: 83.7+ KB\n",
      "None\n"
     ]
    }
   ],
   "source": [
    "print(data.info())"
   ]
  },
  {
   "cell_type": "code",
   "execution_count": 54,
   "metadata": {},
   "outputs": [
    {
     "name": "stdout",
     "output_type": "stream",
     "text": [
      "        PassengerId    Survived      Pclass                     Name   Sex  \\\n",
      "count    891.000000  891.000000  891.000000                      891   891   \n",
      "unique          NaN         NaN         NaN                      891     2   \n",
      "top             NaN         NaN         NaN  Braund, Mr. Owen Harris  male   \n",
      "freq            NaN         NaN         NaN                        1   577   \n",
      "mean     446.000000    0.383838    2.308642                      NaN   NaN   \n",
      "std      257.353842    0.486592    0.836071                      NaN   NaN   \n",
      "min        1.000000    0.000000    1.000000                      NaN   NaN   \n",
      "25%      223.500000    0.000000    2.000000                      NaN   NaN   \n",
      "50%      446.000000    0.000000    3.000000                      NaN   NaN   \n",
      "75%      668.500000    1.000000    3.000000                      NaN   NaN   \n",
      "max      891.000000    1.000000    3.000000                      NaN   NaN   \n",
      "\n",
      "               Age       SibSp       Parch  Ticket        Fare    Cabin  \\\n",
      "count   714.000000  891.000000  891.000000     891  891.000000      204   \n",
      "unique         NaN         NaN         NaN     681         NaN      147   \n",
      "top            NaN         NaN         NaN  347082         NaN  B96 B98   \n",
      "freq           NaN         NaN         NaN       7         NaN        4   \n",
      "mean     29.699118    0.523008    0.381594     NaN   32.204208      NaN   \n",
      "std      14.526497    1.102743    0.806057     NaN   49.693429      NaN   \n",
      "min       0.420000    0.000000    0.000000     NaN    0.000000      NaN   \n",
      "25%      20.125000    0.000000    0.000000     NaN    7.910400      NaN   \n",
      "50%      28.000000    0.000000    0.000000     NaN   14.454200      NaN   \n",
      "75%      38.000000    1.000000    0.000000     NaN   31.000000      NaN   \n",
      "max      80.000000    8.000000    6.000000     NaN  512.329200      NaN   \n",
      "\n",
      "       Embarked  \n",
      "count       889  \n",
      "unique        3  \n",
      "top           S  \n",
      "freq        644  \n",
      "mean        NaN  \n",
      "std         NaN  \n",
      "min         NaN  \n",
      "25%         NaN  \n",
      "50%         NaN  \n",
      "75%         NaN  \n",
      "max         NaN  \n"
     ]
    }
   ],
   "source": [
    "print(data.describe(include=\"all\"))"
   ]
  },
  {
   "cell_type": "code",
   "execution_count": 55,
   "metadata": {},
   "outputs": [
    {
     "name": "stdout",
     "output_type": "stream",
     "text": [
      "Proportion of Survived Survived\n",
      "0    549\n",
      "1    342\n",
      "Name: count, dtype: int64\n"
     ]
    }
   ],
   "source": [
    "print(\"Proportion of Survived\", data[\"Survived\"].value_counts())"
   ]
  },
  {
   "cell_type": "code",
   "execution_count": 56,
   "metadata": {},
   "outputs": [
    {
     "name": "stdout",
     "output_type": "stream",
     "text": [
      "Before removing high missing rate \n",
      " Cabin          0.774637\n",
      "Age            0.200917\n",
      "Embarked       0.001528\n",
      "Fare           0.000764\n",
      "PassengerId    0.000000\n",
      "Pclass         0.000000\n",
      "Name           0.000000\n",
      "Sex            0.000000\n",
      "SibSp          0.000000\n",
      "Parch          0.000000\n",
      "Ticket         0.000000\n",
      "dtype: float64\n",
      "----------------------------------------\n",
      "After removing high missing rate \n",
      " Age            263\n",
      "Embarked         2\n",
      "Fare             1\n",
      "PassengerId      0\n",
      "Pclass           0\n",
      "Name             0\n",
      "Sex              0\n",
      "SibSp            0\n",
      "Parch            0\n",
      "dtype: int64\n"
     ]
    }
   ],
   "source": [
    "#Check missing values\n",
    "missing_columns  = (all_data.isnull().sum() /len(all_data)).sort_values(ascending=False)\n",
    "print(f\"Before removing high missing rate \\n {missing_columns}\")\n",
    "print(\"-\"*40)\n",
    "\n",
    "#Remove colums(\"Cabin\") in wchih more than 40% of data is missing value\n",
    "#Remove \"Ticket\" column because it doesn't include any info   \n",
    "try:\n",
    "    all_data.drop([\"Cabin\", \"Ticket\"], axis=1, inplace=True)\n",
    "except KeyError:\n",
    "    print(\"Columns already dropped.\")\n",
    "print(f\"After removing high missing rate \\n {all_data.isnull().sum().sort_values(ascending=False)}\")"
   ]
  },
  {
   "cell_type": "code",
   "execution_count": 57,
   "metadata": {},
   "outputs": [
    {
     "data": {
      "image/png": "[encoded data removed]",
      "text/plain": [
       "<Figure size 640x480 with 1 Axes>"
      ]
     },
     "metadata": {},
     "output_type": "display_data"
    },
    {
     "name": "stdout",
     "output_type": "stream",
     "text": [
      "Number of missing valued after filling it 0\n"
     ]
    }
   ],
   "source": [
    "#About age column\n",
    "\n",
    "#Visualize\n",
    "sns.kdeplot(data= all_data, x= \"Age\", hue=\"Pclass\")\n",
    "plt.show()\n",
    "\n",
    "#It shows that there is a age-mean diffrence between Plcass\n",
    "\n",
    "#Fill age missing values by Plclass\n",
    "all_data[\"Age\"] = all_data.groupby(\"Pclass\")[\"Age\"].transform(lambda x:x.fillna(x.mean()))\n",
    "print(f\"Number of missing valued after filling it {all_data[\"Age\"].isna().sum()}\")\n",
    "\n",
    "#Fill \"Embarked\" missing values by mode\n",
    "all_data[\"Embarked\"] = all_data[\"Embarked\"].fillna(all_data[\"Embarked\"].mode()[0])\n",
    "\n",
    "#Fill \"Fare\" missing values by median\n",
    "all_data[\"Fare\"] = all_data[\"Fare\"].fillna(all_data[\"Fare\"].median())\n"
   ]
  },
  {
   "cell_type": "code",
   "execution_count": 58,
   "metadata": {},
   "outputs": [
    {
     "name": "stderr",
     "output_type": "stream",
     "text": [
      "C:\\Users\\thosa\\AppData\\Local\\Temp\\ipykernel_14852\\4040335376.py:7: SettingWithCopyWarning: \n",
      "A value is trying to be set on a copy of a slice from a DataFrame\n",
      "\n",
      "See the caveats in the documentation: https://pandas.pydata.org/pandas-docs/stable/user_guide/indexing.html#returning-a-view-versus-a-copy\n",
      "  all_data[\"IsAlone\"].loc[all_data[\"FamilySize\"] >1] = 0\n"
     ]
    }
   ],
   "source": [
    "#Add new features\n",
    "#\"FamilySize\" denotes how mamy relatives there were in Titanic \n",
    "all_data[\"FamilySize\"] = all_data[\"SibSp\"] + all_data[\"Parch\"] + 1\n",
    "\n",
    "#\"IsAlone\" denotes if that passernger was alone or not (yes/1 is alone) \n",
    "all_data[\"IsAlone\"] = 1 \n",
    "all_data[\"IsAlone\"].loc[all_data[\"FamilySize\"] >1] = 0\n",
    "\n",
    "#\"Title\" denotes \"Mr\",\"Mrs\" etc \n",
    "all_data[\"Title\"] = all_data[\"Name\"].str.split(\",\", expand=True)[1].str.split(\".\", expand=True)[0]"
   ]
  },
  {
   "cell_type": "code",
   "execution_count": 59,
   "metadata": {},
   "outputs": [
    {
     "name": "stdout",
     "output_type": "stream",
     "text": [
      "Title\n",
      " Mr        757\n",
      " Miss      260\n",
      " Mrs       197\n",
      " Master     61\n",
      "Misc        34\n",
      "Name: count, dtype: int64\n"
     ]
    }
   ],
   "source": [
    "#Chage small portion of titile to \"others\"\n",
    "title_names  = (all_data[\"Title\"].value_counts() < 10)\n",
    "all_data[\"Title\"] = all_data[\"Title\"].apply(lambda x: \"Misc\" if title_names.loc[x] == True else x)\n",
    "print(all_data[\"Title\"].value_counts())"
   ]
  },
  {
   "cell_type": "code",
   "execution_count": 60,
   "metadata": {},
   "outputs": [
    {
     "name": "stdout",
     "output_type": "stream",
     "text": [
      "Name\n",
      "Chi-square: 891.0, p-value: 0.484248151973633\n",
      "Sex\n",
      "Chi-square: 260.71702016732104, p-value: 1.1973570627755645e-58\n",
      "Embarked\n",
      "Chi-square: 25.964452881874784, p-value: 2.3008626481449577e-06\n",
      "Title\n",
      "Chi-square: 283.3115089621979, p-value: 4.305036064730923e-60\n"
     ]
    }
   ],
   "source": [
    "#categorical data\n",
    "categorical_data = all_data.select_dtypes(\"object\")\n",
    "\n",
    "for column in categorical_data.columns:\n",
    "  contingency_table = pd.crosstab(data[\"Survived\"], categorical_data[column])\n",
    "  print(column)\n",
    "  # Chi-Squre test\n",
    "  chi2, p, dof, expected = chi2_contingency(contingency_table)\n",
    "  print(f\"Chi-square: {chi2}, p-value: {p}\")\n",
    "\n",
    "#The result indicates that　\"Plcass\"、\"Sex\",\"Embarked\",\"Title\" are related to \"Survived\""
   ]
  },
  {
   "cell_type": "code",
   "execution_count": 61,
   "metadata": {},
   "outputs": [
    {
     "data": {
      "image/png": "[encoded data removed]",
      "text/plain": [
       "<Figure size 1000x1000 with 2 Axes>"
      ]
     },
     "metadata": {},
     "output_type": "display_data"
    }
   ],
   "source": [
    "#numerical data \n",
    "plt.figure(figsize=(10,10))\n",
    "numerical_data = data.select_dtypes(np.number)\n",
    "sns.heatmap(numerical_data.corr(), annot=True)\n",
    "plt.show()"
   ]
  },
  {
   "cell_type": "code",
   "execution_count": 62,
   "metadata": {},
   "outputs": [
    {
     "name": "stdout",
     "output_type": "stream",
     "text": [
      "extracted_df (1309, 9)\n",
      "   PassengerId  Pclass     Sex Embarked  FamilySize   Age  IsAlone  Title  \\\n",
      "0            1       3    male        S           2  22.0        0     Mr   \n",
      "1            2       1  female        C           2  38.0        0    Mrs   \n",
      "2            3       3  female        S           1  26.0        1   Miss   \n",
      "3            4       1  female        S           2  35.0        0    Mrs   \n",
      "4            5       3    male        S           1  35.0        1     Mr   \n",
      "\n",
      "      Fare  \n",
      "0   7.2500  \n",
      "1  71.2833  \n",
      "2   7.9250  \n",
      "3  53.1000  \n",
      "4   8.0500  \n"
     ]
    }
   ],
   "source": [
    "#Extract essential features\n",
    "extracted_df = all_data[[\"PassengerId\",\"Pclass\",\"Sex\",\"Embarked\", \"FamilySize\", \"Age\",\"IsAlone\", \"Title\",\"Fare\"]]\n",
    "print(f\"extracted_df {extracted_df.shape}\")\n",
    "print(extracted_df.head())"
   ]
  },
  {
   "cell_type": "code",
   "execution_count": 63,
   "metadata": {},
   "outputs": [
    {
     "data": {
      "text/html": [
       "<div>\n",
       "<style scoped>\n",
       "    .dataframe tbody tr th:only-of-type {\n",
       "        vertical-align: middle;\n",
       "    }\n",
       "\n",
       "    .dataframe tbody tr th {\n",
       "        vertical-align: top;\n",
       "    }\n",
       "\n",
       "    .dataframe thead th {\n",
       "        text-align: right;\n",
       "    }\n",
       "</style>\n",
       "<table border=\"1\" class=\"dataframe\">\n",
       "  <thead>\n",
       "    <tr style=\"text-align: right;\">\n",
       "      <th></th>\n",
       "      <th>PassengerId</th>\n",
       "      <th>Pclass</th>\n",
       "      <th>Sex</th>\n",
       "      <th>Embarked</th>\n",
       "      <th>FamilySize</th>\n",
       "      <th>Age</th>\n",
       "      <th>IsAlone</th>\n",
       "      <th>Title</th>\n",
       "      <th>Fare</th>\n",
       "    </tr>\n",
       "  </thead>\n",
       "  <tbody>\n",
       "    <tr>\n",
       "      <th>0</th>\n",
       "      <td>1</td>\n",
       "      <td>3</td>\n",
       "      <td>male</td>\n",
       "      <td>S</td>\n",
       "      <td>2</td>\n",
       "      <td>-0.559957</td>\n",
       "      <td>0</td>\n",
       "      <td>Mr</td>\n",
       "      <td>-0.503291</td>\n",
       "    </tr>\n",
       "    <tr>\n",
       "      <th>1</th>\n",
       "      <td>2</td>\n",
       "      <td>1</td>\n",
       "      <td>female</td>\n",
       "      <td>C</td>\n",
       "      <td>2</td>\n",
       "      <td>0.659292</td>\n",
       "      <td>0</td>\n",
       "      <td>Mrs</td>\n",
       "      <td>0.734744</td>\n",
       "    </tr>\n",
       "    <tr>\n",
       "      <th>2</th>\n",
       "      <td>3</td>\n",
       "      <td>3</td>\n",
       "      <td>female</td>\n",
       "      <td>S</td>\n",
       "      <td>1</td>\n",
       "      <td>-0.255145</td>\n",
       "      <td>1</td>\n",
       "      <td>Miss</td>\n",
       "      <td>-0.490240</td>\n",
       "    </tr>\n",
       "    <tr>\n",
       "      <th>3</th>\n",
       "      <td>4</td>\n",
       "      <td>1</td>\n",
       "      <td>female</td>\n",
       "      <td>S</td>\n",
       "      <td>2</td>\n",
       "      <td>0.430683</td>\n",
       "      <td>0</td>\n",
       "      <td>Mrs</td>\n",
       "      <td>0.383183</td>\n",
       "    </tr>\n",
       "    <tr>\n",
       "      <th>4</th>\n",
       "      <td>5</td>\n",
       "      <td>3</td>\n",
       "      <td>male</td>\n",
       "      <td>S</td>\n",
       "      <td>1</td>\n",
       "      <td>0.430683</td>\n",
       "      <td>1</td>\n",
       "      <td>Mr</td>\n",
       "      <td>-0.487824</td>\n",
       "    </tr>\n",
       "  </tbody>\n",
       "</table>\n",
       "</div>"
      ],
      "text/plain": [
       "   PassengerId  Pclass     Sex Embarked  FamilySize       Age  IsAlone  Title  \\\n",
       "0            1       3    male        S           2 -0.559957        0     Mr   \n",
       "1            2       1  female        C           2  0.659292        0    Mrs   \n",
       "2            3       3  female        S           1 -0.255145        1   Miss   \n",
       "3            4       1  female        S           2  0.430683        0    Mrs   \n",
       "4            5       3    male        S           1  0.430683        1     Mr   \n",
       "\n",
       "       Fare  \n",
       "0 -0.503291  \n",
       "1  0.734744  \n",
       "2 -0.490240  \n",
       "3  0.383183  \n",
       "4 -0.487824  "
      ]
     },
     "execution_count": 63,
     "metadata": {},
     "output_type": "execute_result"
    }
   ],
   "source": [
    "#Standalized numerical data \n",
    "std_extracted_df = extracted_df.copy()\n",
    "Std = StandardScaler()\n",
    "std_extracted_df[\"Age\"] = Std.fit_transform(std_extracted_df[[\"Age\"]])\n",
    "std_extracted_df[\"Fare\"] = Std.fit_transform(std_extracted_df[[\"Fare\"]])\n",
    "std_extracted_df.head()\n"
   ]
  },
  {
   "cell_type": "code",
   "execution_count": 64,
   "metadata": {},
   "outputs": [
    {
     "data": {
      "text/html": [
       "<div>\n",
       "<style scoped>\n",
       "    .dataframe tbody tr th:only-of-type {\n",
       "        vertical-align: middle;\n",
       "    }\n",
       "\n",
       "    .dataframe tbody tr th {\n",
       "        vertical-align: top;\n",
       "    }\n",
       "\n",
       "    .dataframe thead th {\n",
       "        text-align: right;\n",
       "    }\n",
       "</style>\n",
       "<table border=\"1\" class=\"dataframe\">\n",
       "  <thead>\n",
       "    <tr style=\"text-align: right;\">\n",
       "      <th></th>\n",
       "      <th>PassengerId</th>\n",
       "      <th>Pclass</th>\n",
       "      <th>FamilySize</th>\n",
       "      <th>Age</th>\n",
       "      <th>IsAlone</th>\n",
       "      <th>Fare</th>\n",
       "      <th>Sex_female</th>\n",
       "      <th>Sex_male</th>\n",
       "      <th>Embarked_C</th>\n",
       "      <th>Embarked_Q</th>\n",
       "      <th>Embarked_S</th>\n",
       "      <th>Title_ Master</th>\n",
       "      <th>Title_ Miss</th>\n",
       "      <th>Title_ Mr</th>\n",
       "      <th>Title_ Mrs</th>\n",
       "      <th>Title_Misc</th>\n",
       "    </tr>\n",
       "  </thead>\n",
       "  <tbody>\n",
       "    <tr>\n",
       "      <th>0</th>\n",
       "      <td>1</td>\n",
       "      <td>3</td>\n",
       "      <td>2</td>\n",
       "      <td>-0.559957</td>\n",
       "      <td>0</td>\n",
       "      <td>-0.503291</td>\n",
       "      <td>False</td>\n",
       "      <td>True</td>\n",
       "      <td>False</td>\n",
       "      <td>False</td>\n",
       "      <td>True</td>\n",
       "      <td>False</td>\n",
       "      <td>False</td>\n",
       "      <td>True</td>\n",
       "      <td>False</td>\n",
       "      <td>False</td>\n",
       "    </tr>\n",
       "    <tr>\n",
       "      <th>1</th>\n",
       "      <td>2</td>\n",
       "      <td>1</td>\n",
       "      <td>2</td>\n",
       "      <td>0.659292</td>\n",
       "      <td>0</td>\n",
       "      <td>0.734744</td>\n",
       "      <td>True</td>\n",
       "      <td>False</td>\n",
       "      <td>True</td>\n",
       "      <td>False</td>\n",
       "      <td>False</td>\n",
       "      <td>False</td>\n",
       "      <td>False</td>\n",
       "      <td>False</td>\n",
       "      <td>True</td>\n",
       "      <td>False</td>\n",
       "    </tr>\n",
       "    <tr>\n",
       "      <th>2</th>\n",
       "      <td>3</td>\n",
       "      <td>3</td>\n",
       "      <td>1</td>\n",
       "      <td>-0.255145</td>\n",
       "      <td>1</td>\n",
       "      <td>-0.490240</td>\n",
       "      <td>True</td>\n",
       "      <td>False</td>\n",
       "      <td>False</td>\n",
       "      <td>False</td>\n",
       "      <td>True</td>\n",
       "      <td>False</td>\n",
       "      <td>True</td>\n",
       "      <td>False</td>\n",
       "      <td>False</td>\n",
       "      <td>False</td>\n",
       "    </tr>\n",
       "    <tr>\n",
       "      <th>3</th>\n",
       "      <td>4</td>\n",
       "      <td>1</td>\n",
       "      <td>2</td>\n",
       "      <td>0.430683</td>\n",
       "      <td>0</td>\n",
       "      <td>0.383183</td>\n",
       "      <td>True</td>\n",
       "      <td>False</td>\n",
       "      <td>False</td>\n",
       "      <td>False</td>\n",
       "      <td>True</td>\n",
       "      <td>False</td>\n",
       "      <td>False</td>\n",
       "      <td>False</td>\n",
       "      <td>True</td>\n",
       "      <td>False</td>\n",
       "    </tr>\n",
       "    <tr>\n",
       "      <th>4</th>\n",
       "      <td>5</td>\n",
       "      <td>3</td>\n",
       "      <td>1</td>\n",
       "      <td>0.430683</td>\n",
       "      <td>1</td>\n",
       "      <td>-0.487824</td>\n",
       "      <td>False</td>\n",
       "      <td>True</td>\n",
       "      <td>False</td>\n",
       "      <td>False</td>\n",
       "      <td>True</td>\n",
       "      <td>False</td>\n",
       "      <td>False</td>\n",
       "      <td>True</td>\n",
       "      <td>False</td>\n",
       "      <td>False</td>\n",
       "    </tr>\n",
       "  </tbody>\n",
       "</table>\n",
       "</div>"
      ],
      "text/plain": [
       "   PassengerId  Pclass  FamilySize       Age  IsAlone      Fare  Sex_female  \\\n",
       "0            1       3           2 -0.559957        0 -0.503291       False   \n",
       "1            2       1           2  0.659292        0  0.734744        True   \n",
       "2            3       3           1 -0.255145        1 -0.490240        True   \n",
       "3            4       1           2  0.430683        0  0.383183        True   \n",
       "4            5       3           1  0.430683        1 -0.487824       False   \n",
       "\n",
       "   Sex_male  Embarked_C  Embarked_Q  Embarked_S  Title_ Master  Title_ Miss  \\\n",
       "0      True       False       False        True          False        False   \n",
       "1     False        True       False       False          False        False   \n",
       "2     False       False       False        True          False         True   \n",
       "3     False       False       False        True          False        False   \n",
       "4      True       False       False        True          False        False   \n",
       "\n",
       "   Title_ Mr  Title_ Mrs  Title_Misc  \n",
       "0       True       False       False  \n",
       "1      False        True       False  \n",
       "2      False       False       False  \n",
       "3      False        True       False  \n",
       "4       True       False       False  "
      ]
     },
     "execution_count": 64,
     "metadata": {},
     "output_type": "execute_result"
    }
   ],
   "source": [
    "#One-Hot encoding\n",
    "std_extracted_df = pd.get_dummies(data=std_extracted_df, columns=[\"Sex\",\"Embarked\",\"Title\"])\n",
    "std_extracted_df.head()"
   ]
  },
  {
   "cell_type": "code",
   "execution_count": 68,
   "metadata": {},
   "outputs": [
    {
     "name": "stdout",
     "output_type": "stream",
     "text": [
      "train shpae (891, 15)\n",
      "test shpae (418, 15)\n"
     ]
    }
   ],
   "source": [
    "#Split all_data into train and test data \n",
    "train = std_extracted_df[:ntrain]\n",
    "y = data[\"Survived\"]\n",
    "train = train.drop(\"PassengerId\", axis=1)\n",
    "\n",
    "test = std_extracted_df[ntrain:]\n",
    "PassengerId = test[\"PassengerId\"]\n",
    "test = test.drop(\"PassengerId\", axis=1)\n",
    "\n",
    "print(f\"train shpae {train.shape}\")\n",
    "print(f\"test shpae {test.shape}\")"
   ]
  },
  {
   "cell_type": "code",
   "execution_count": null,
   "metadata": {},
   "outputs": [],
   "source": [
    "#Split train data into train and validation data\n",
    "X_train, X_test, y_train, y_test = train_test_split(train, y, test_size=0.2, random_state=42)"
   ]
  },
  {
   "cell_type": "code",
   "execution_count": null,
   "metadata": {},
   "outputs": [
    {
     "name": "stdout",
     "output_type": "stream",
     "text": [
      "Model: DecisionTree\n",
      "  Best Parameters: {'criterion': 'entropy', 'max_depth': 4, 'min_samples_split': 2}\n",
      "  Best Cross-validation Score: 0.82\n",
      "----------------------------------------\n",
      "Model: RandomForest\n",
      "  Best Parameters: {'max_depth': 5, 'n_estimators': 10}\n",
      "  Best Cross-validation Score: 0.84\n",
      "----------------------------------------\n",
      "Model: Bagging\n",
      "  Best Parameters: {'n_estimators': 50}\n",
      "  Best Cross-validation Score: 0.82\n",
      "----------------------------------------\n",
      "Model: Boosting\n",
      "  Best Parameters: {'learning_rate': 0.1, 'n_estimators': 100}\n",
      "  Best Cross-validation Score: 0.82\n",
      "----------------------------------------\n"
     ]
    }
   ],
   "source": [
    "#Execute Grid Serach to find better Algorithm and hyper parmeters\n",
    "models = {\n",
    "    \"DecisionTree\": (DecisionTreeClassifier(random_state=42), {'max_depth': [3,4, 5, 10], \"min_samples_split\":[2,3,4,5],\"criterion\":[\"gini\",\"entropy\"]}),\n",
    "    \"RandomForest\": (RandomForestClassifier(random_state=42), {'max_depth': [3,4, 5, 10],'n_estimators': [10, 50, 100]}),\n",
    "    \"Bagging\":(BaggingClassifier(estimator=DecisionTreeClassifier(max_depth=4), random_state=42), {\"n_estimators\":[10,50,100]}),\n",
    "    \"Boosting\":(GradientBoostingClassifier(random_state=42), {\"n_estimators\":[10,50,100], \"learning_rate\":[0.001, 0.01, 0.1]})\n",
    "}\n",
    "\n",
    "for name, (model, param_grid) in models.items():\n",
    "    grid_search = GridSearchCV(model, param_grid, cv=5)\n",
    "    grid_search.fit(X_train, y_train)\n",
    "    print(f\"Model: {name}\")\n",
    "    print(f\"Best Parameters: {grid_search.best_params_}\")\n",
    "    print(f\"Best Cross-validation Score: {grid_search.best_score_:.2f}\")\n",
    "    print(\"-\"*40)\n",
    "\n",
    "#From this execution \n",
    "# Model: RandomForest\n",
    "# Best Parameters: {'max_depth': 5, 'n_estimators': 10}\n",
    "# Best Cross-validation Score: 0.84\n",
    "# performed the best \n"
   ]
  },
  {
   "cell_type": "code",
   "execution_count": null,
   "metadata": {},
   "outputs": [
    {
     "name": "stdout",
     "output_type": "stream",
     "text": [
      "Final Model Accuracy: 0.85\n"
     ]
    }
   ],
   "source": [
    "#Built a model by the best pefromance one\n",
    "model = RandomForestClassifier(max_depth=5, n_estimators=10, random_state=42)\n",
    "model.fit(X_train, y_train)\n",
    "y_pred =model.predict(X_train)\n",
    "print(f\"Final Model Accuracy: {accuracy_score(y_train, y_pred):.2f}\")"
   ]
  },
  {
   "cell_type": "code",
   "execution_count": null,
   "metadata": {},
   "outputs": [],
   "source": [
    "#Formatlize result\n",
    "compare_result = pd.DataFrame({\n",
    "    'PassengerId': PassengerId,\n",
    "    'Survived': model.predict(test)\n",
    "})\n",
    "\n",
    "# Save it to CSV file\n",
    "compare_result.to_csv('submission.csv', index=False)"
   ]
  }
 ],
 "metadata": {
  "kernelspec": {
   "display_name": "rcp",
   "language": "python",
   "name": "rcp"
  },
  "language_info": {
   "codemirror_mode": {
    "name": "ipython",
    "version": 3
   },
   "file_extension": ".py",
   "mimetype": "text/x-python",
   "name": "python",
   "nbconvert_exporter": "python",
   "pygments_lexer": "ipython3",
   "version": "3.12.0"
  }
 },
 "nbformat": 4,
 "nbformat_minor": 2
}
